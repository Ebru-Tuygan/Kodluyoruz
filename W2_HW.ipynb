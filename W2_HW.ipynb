{
  "nbformat": 4,
  "nbformat_minor": 0,
  "metadata": {
    "colab": {
      "provenance": []
    },
    "kernelspec": {
      "name": "python3",
      "display_name": "Python 3"
    },
    "language_info": {
      "name": "python"
    }
  },
  "cells": [
    {
      "cell_type": "code",
      "execution_count": 6,
      "metadata": {
        "id": "RhES8_KFR_4a"
      },
      "outputs": [],
      "source": [
        "points = [(3,7), (6,11), (5, 8), (14, 19)]"
      ]
    },
    {
      "cell_type": "code",
      "source": [
        "def euclideanDistance(point1, point2):\n",
        "\n",
        "    dist1 = point1[1] - point2[1]\n",
        "    dist2 = point1[1] - point2[1]\n",
        "\n",
        "    dist1_square = dist1 * dist1\n",
        "    dist2_square = dist2 * dist2\n",
        "    sum = dist1_square + dist2_square\n",
        "    dist = sum ** 0.5\n",
        "\n",
        "    return dist\n"
      ],
      "metadata": {
        "id": "GT9nkgDvSeC2"
      },
      "execution_count": 4,
      "outputs": []
    },
    {
      "cell_type": "code",
      "source": [
        "min = 40000\n",
        "\n",
        "for i in range(len(points)):\n",
        "  for a in range(i + 1, len(points)):\n",
        "\n",
        "    temp = euclideanDistance(points[i], points[a])\n",
        "    if temp < min:\n",
        "      min = temp\n",
        "\n",
        "print(min)\n",
        ""
      ],
      "metadata": {
        "colab": {
          "base_uri": "https://localhost:8080/"
        },
        "id": "4yYQCBsISnbB",
        "outputId": "7c686456-921d-4c68-df6e-23e0873e5325"
      },
      "execution_count": 22,
      "outputs": [
        {
          "output_type": "stream",
          "name": "stdout",
          "text": [
            "1.4142135623730951\n"
          ]
        }
      ]
    },
    {
      "cell_type": "code",
      "source": [],
      "metadata": {
        "id": "uRVf0zliUbfT"
      },
      "execution_count": null,
      "outputs": []
    }
  ]
}